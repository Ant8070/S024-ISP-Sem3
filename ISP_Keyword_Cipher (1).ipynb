{
  "cells": [
    {
      "cell_type": "markdown",
      "source": [
        "#Keyword Cipher"
      ],
      "metadata": {
        "id": "ZIs0ZC_d-GF3"
      }
    },
    {
      "cell_type": "code",
      "execution_count": 1,
      "metadata": {
        "colab": {
          "base_uri": "https://localhost:8080/"
        },
        "id": "hTTUmYNGrwzL",
        "outputId": "55bc4370-2b96-4562-84ba-751535ad1a8a"
      },
      "outputs": [
        {
          "name": "stdout",
          "output_type": "stream",
          "text": [
            "Enter The Plain Message : Cluelessssss\n",
            "Enter the keyword : Forty\n"
          ]
        }
      ],
      "source": [
        "message = input(\"Enter The Plain Message : \")\n",
        "keyword = input(\"Enter the keyword : \")\n",
        "ciphertext = \"\""
      ]
    },
    {
      "cell_type": "code",
      "execution_count": 2,
      "metadata": {
        "colab": {
          "base_uri": "https://localhost:8080/"
        },
        "id": "DXsMi1zwrnjx",
        "outputId": "2db09d2c-715f-4b25-dcfb-74adf330189a"
      },
      "outputs": [
        {
          "output_type": "stream",
          "name": "stdout",
          "text": [
            "['A', 'B', 'C', 'D', 'E', 'F', 'G', 'H', 'I', 'J', 'K', 'L', 'M', 'N', 'O', 'P', 'Q', 'R', 'S', 'T', 'U', 'V', 'W', 'X', 'Y', 'Z']\n"
          ]
        }
      ],
      "source": [
        "all_alphabets = []\n",
        "for i in range (65, 91):\n",
        "  all_alphabets.append(chr(i))\n",
        "print(all_alphabets)"
      ]
    },
    {
      "cell_type": "code",
      "execution_count": 3,
      "metadata": {
        "colab": {
          "base_uri": "https://localhost:8080/"
        },
        "id": "UW7RvW1LsiD9",
        "outputId": "58e0794c-f948-419d-b447-0f52fe5ae83e"
      },
      "outputs": [
        {
          "output_type": "stream",
          "name": "stdout",
          "text": [
            "['C', 'L', 'U', 'E', 'L', 'E', 'S', 'S', 'S', 'S', 'S', 'S']\n"
          ]
        }
      ],
      "source": [
        "msg = []\n",
        "for i in message:\n",
        "  msg.append(i.upper())\n",
        "print(msg)"
      ]
    },
    {
      "cell_type": "code",
      "execution_count": 4,
      "metadata": {
        "id": "5SOkTZYTtY0_"
      },
      "outputs": [],
      "source": [
        "keyword1 = keyword.upper()"
      ]
    },
    {
      "cell_type": "code",
      "execution_count": 5,
      "metadata": {
        "id": "0E8q0wZPtk7z"
      },
      "outputs": [],
      "source": [
        "def duplicates(list):\n",
        "  key = []\n",
        "  for i in list:\n",
        "    if i not in key:\n",
        "      key.append(i)\n",
        "  return key"
      ]
    },
    {
      "cell_type": "code",
      "execution_count": 6,
      "metadata": {
        "colab": {
          "base_uri": "https://localhost:8080/"
        },
        "id": "coFyMiMevI3B",
        "outputId": "02e3d489-07f7-4ac1-96da-8447273a3984"
      },
      "outputs": [
        {
          "output_type": "stream",
          "name": "stdout",
          "text": [
            "keyword after removing duplicates :  ['F', 'O', 'R', 'T', 'Y']\n",
            "encrypting text is :  ['F', 'O', 'R', 'T', 'Y', 'A', 'B', 'C', 'D', 'E', 'G', 'H', 'I', 'J', 'K', 'L', 'M', 'N', 'P', 'Q', 'S', 'U', 'V', 'W', 'X', 'Z']\n"
          ]
        }
      ],
      "source": [
        "keyword1 = duplicates(keyword1)\n",
        "print(\"keyword after removing duplicates : \", keyword1)\n",
        "encrypting = duplicates(keyword1 + all_alphabets)\n",
        "for i in encrypting:\n",
        "  if( i==' '):\n",
        "    encrypting.remove(' ')\n",
        "print(\"encrypting text is : \", encrypting)"
      ]
    },
    {
      "cell_type": "code",
      "execution_count": 7,
      "metadata": {
        "id": "yzHekEM3xuCG"
      },
      "outputs": [],
      "source": [
        "for i in range(len(msg)):\n",
        "  if(msg[i] != ' '):\n",
        "    ciphertext = ciphertext + encrypting[all_alphabets.index(msg[i])]\n",
        "  else:\n",
        "    ciphertext = ciphertext + ' '\n"
      ]
    },
    {
      "cell_type": "code",
      "execution_count": 8,
      "metadata": {
        "colab": {
          "base_uri": "https://localhost:8080/"
        },
        "id": "uxbwkVKhyw4O",
        "outputId": "3cd1bb99-21ba-4c6c-fdf6-2b613e816574"
      },
      "outputs": [
        {
          "output_type": "stream",
          "name": "stdout",
          "text": [
            "KEYWORD :::  Forty\n",
            "MESSAGE BEFORE CIPHERING :::  Cluelessssss\n",
            "CIPHERED TEXT ::: RHSYHYPPPPPP\n"
          ]
        }
      ],
      "source": [
        "print(\"KEYWORD ::: \", keyword)\n",
        "print(\"MESSAGE BEFORE CIPHERING ::: \", message)\n",
        "print(\"CIPHERED TEXT :::\", ciphertext)\n"
      ]
    }
  ],
  "metadata": {
    "colab": {
      "collapsed_sections": [],
      "provenance": []
    },
    "kernelspec": {
      "display_name": "Python 3",
      "name": "python3"
    },
    "language_info": {
      "name": "python"
    }
  },
  "nbformat": 4,
  "nbformat_minor": 0
}